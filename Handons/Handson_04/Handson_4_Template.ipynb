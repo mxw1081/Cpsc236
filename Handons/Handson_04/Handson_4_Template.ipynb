{
 "cells": [
  {
   "cell_type": "markdown",
   "metadata": {},
   "source": [
    "# Functions\n",
    "\n",
    "To submit this assignment in D2l, post the link to your notebook file on your GitHub account."
   ]
  },
  {
   "cell_type": "markdown",
   "metadata": {},
   "source": [
    "## 6.1 Prime Number Checker\n",
    "Create a program that checks whether a number is a prime number and displays its factors if it is not a prime number.\n",
    "\n",
    "### Console:\n",
    "```powershell\n",
    "Prime Number Checker\n",
    "\n",
    "Please enter an integer between 1 and 5000: 5\n",
    "5 is a prime number.\n",
    "\n",
    "Try again? (y/n): y\n",
    "\n",
    "Please enter an integer between 1 and 5000: 6\n",
    "6 is NOT a prime number.\n",
    "It has 4 factors: 1 2 3 6\n",
    "\n",
    "Try again? (y/n): y\n",
    "\n",
    "Please enter an integer between 1 and 5000: 200\n",
    "200 is NOT a prime number.\n",
    "It has 12 factors: 1 2 3 4 5 8 10 20 25 40 50 100 200\n",
    "\n",
    "Try again? (y/n): n\n",
    "\n",
    "Bye!\n",
    "```\n",
    "\n",
    "### Specifications:\n",
    "- A prime number is divisible by two factors (1 and itself). For example, 7 is a prime number because it is only divisible by 1 and 7.\n",
    "- If the user enters an integer that's not between 1 and 5000, the program should display an error message.\n",
    "- If the number is a prime number, the program should display a message.\n",
    "If the number is not a prime number, the program should display a message. Then, it should display the number of factors for the number and a list of those factors.\n",
    "- Store the factors for each number in a list.\n",
    "- Use functions to organize the code for this program.\n"
   ]
  },
  {
   "cell_type": "code",
   "execution_count": 6,
   "metadata": {},
   "outputs": [
    {
     "name": "stdout",
     "output_type": "stream",
     "text": [
      "Prime Number Checker\n",
      "Please enter an integer between 1 and 5000: 1\n",
      "1 is a prime number\n",
      "Try again? (y/n): n\n",
      "\n",
      "Bye!\n"
     ]
    }
   ],
   "source": [
    "### CODE HERE ###\n",
    "def funValidateInput(): #get integer and validate it betweeen 1-5000\n",
    "    x = int(input(\"Please enter an integer between 1 and 5000: \"))\n",
    "    while x < 0 and x>5000:\n",
    "        x = int(input(\"Invalid integer, number MUST BE between 1 and 5000\"))\n",
    "    return x\n",
    "        \n",
    "\n",
    "\n",
    "def funFactors(x):\n",
    "    count = 0\n",
    "    factorlist = []\n",
    "    for i in range(x,0,-1):\n",
    "        if x % i == 0:\n",
    "            factorlist.append(i)\n",
    "            count += 1\n",
    "    if count > 2:\n",
    "        print(x,\"is not a prime number.\")\n",
    "        print(\"It has\",count,\"factors\",factorlist)\n",
    "    else:\n",
    "        print(x,\"is a prime number\")\n",
    "    \n",
    "def main():\n",
    "    while True:\n",
    "        print(\"Prime Number Checker\")\n",
    "        #get factors and input\n",
    "        funFactors(funValidateInput())\n",
    "        \n",
    "        \n",
    "        #Again/Continue?\n",
    "        sContinue = input(\"Try again? (y/n): \")\n",
    "        if sContinue.lower() == \"y\":\n",
    "            continue\n",
    "        elif sContinue.lower() == \"n\":\n",
    "            print(\"\\nBye!\")\n",
    "            break\n",
    "    \n",
    "if __name__ == \"__main__\":\n",
    "    main()"
   ]
  },
  {
   "cell_type": "markdown",
   "metadata": {},
   "source": [
    "## 6.2 - Contact Manager\n",
    "Create a program that a user can use to manage the primary email address and phone number for a contact.\n",
    "\n",
    "### Console\n",
    "```powershell\n",
    "Contact Manager\n",
    "\n",
    "COMMAND MENU\n",
    "list - Display all contacts\n",
    "view - View a contact\n",
    "add - Add a contact\n",
    "del - Delete a contact\n",
    "exit - Exit program\n",
    "\n",
    "Command: list\n",
    "1. Guido van Rossum\n",
    "2. Eric Idle\n",
    "\n",
    "Command: view\n",
    "Number: 2\n",
    "Name: Eric Idle\n",
    "Email: eric@ericidle.com\n",
    "Phone: +44 20 7946 0958\n",
    "\n",
    "Command: add\n",
    "Name: Mike Murach\n",
    "Email: mike@murach.com\n",
    "Phone: 559-123-4567\n",
    "Mike Murach was added.\n",
    "\n",
    "Command: del\n",
    "Number: 1\n",
    "Guido van Rossum was deleted.\n",
    "\n",
    "Command: list\n",
    "1. Eric Idle\n",
    "2. Mike Murach\n",
    "\n",
    "Command: exit\n",
    "Bye!\n",
    "```\n",
    "\n",
    "### Specifications:\n",
    "- Use a list of lists to store the data for the contacts. Provide starting data for two or more contacts.\n",
    "- For the `view` and `del` commands, display an error message if the user enters and invalid contact number.\n",
    "- When you exit the program, all changes that you made to the contact list are lost.\n",
    "\n",
    "\n"
   ]
  },
  {
   "cell_type": "code",
   "execution_count": 2,
   "metadata": {},
   "outputs": [
    {
     "name": "stdout",
     "output_type": "stream",
     "text": [
      "COMMAND MENU\n",
      "list - Display all contacts\n",
      "view - View a contact\n",
      "add - Add a contact\n",
      "del - Delete a contact\n",
      "exit - Exit program\n",
      "\n",
      "\n"
     ]
    },
    {
     "name": "stdin",
     "output_type": "stream",
     "text": [
      "Command:  add\n",
      "Name:  marko\n",
      "Email:  marko@email.com\n",
      "Phone:  231 555 9876\n"
     ]
    },
    {
     "name": "stdout",
     "output_type": "stream",
     "text": [
      "marko was added.\n",
      "\n"
     ]
    },
    {
     "name": "stdin",
     "output_type": "stream",
     "text": [
      "Command:  list\n"
     ]
    },
    {
     "name": "stdout",
     "output_type": "stream",
     "text": [
      "1 Eric Idle\n",
      "2 Mike Murach\n",
      "3 marko\n",
      "\n"
     ]
    },
    {
     "name": "stdin",
     "output_type": "stream",
     "text": [
      "Command:  view\n",
      "Number:  3\n"
     ]
    },
    {
     "name": "stdout",
     "output_type": "stream",
     "text": [
      "Name: marko\n",
      "Email: marko@email.com\n",
      "Phone: 231 555 9876\n",
      "\n"
     ]
    },
    {
     "name": "stdin",
     "output_type": "stream",
     "text": [
      "Command:  del\n",
      "Number:  3\n"
     ]
    },
    {
     "name": "stdout",
     "output_type": "stream",
     "text": [
      "marko was deleted.\n",
      "\n"
     ]
    },
    {
     "name": "stdin",
     "output_type": "stream",
     "text": [
      "Command:  list\n"
     ]
    },
    {
     "name": "stdout",
     "output_type": "stream",
     "text": [
      "1 Eric Idle\n",
      "2 Mike Murach\n",
      "\n"
     ]
    },
    {
     "name": "stdin",
     "output_type": "stream",
     "text": [
      "Command:  add\n",
      "Name:  marko\n",
      "Email:  marko@email.com\n",
      "Phone:  231 555 9898\n"
     ]
    },
    {
     "name": "stdout",
     "output_type": "stream",
     "text": [
      "marko was added.\n",
      "\n"
     ]
    },
    {
     "name": "stdin",
     "output_type": "stream",
     "text": [
      "Command:  list\n"
     ]
    },
    {
     "name": "stdout",
     "output_type": "stream",
     "text": [
      "1 Eric Idle\n",
      "2 Mike Murach\n",
      "3 marko\n",
      "\n"
     ]
    },
    {
     "name": "stdin",
     "output_type": "stream",
     "text": [
      "Command:  view\n",
      "Number:  3\n"
     ]
    },
    {
     "name": "stdout",
     "output_type": "stream",
     "text": [
      "Name: marko\n",
      "Email: marko@email.com\n",
      "Phone: 231 555 9898\n",
      "\n"
     ]
    },
    {
     "name": "stdin",
     "output_type": "stream",
     "text": [
      "Command:  del\n",
      "Number:  2\n"
     ]
    },
    {
     "name": "stdout",
     "output_type": "stream",
     "text": [
      "Mike Murach was deleted.\n",
      "\n"
     ]
    },
    {
     "name": "stdin",
     "output_type": "stream",
     "text": [
      "Command:  list\n"
     ]
    },
    {
     "name": "stdout",
     "output_type": "stream",
     "text": [
      "1 Eric Idle\n",
      "2 marko\n",
      "\n"
     ]
    },
    {
     "name": "stdin",
     "output_type": "stream",
     "text": [
      "Command:  view\n",
      "Number:  3\n"
     ]
    },
    {
     "name": "stdout",
     "output_type": "stream",
     "text": [
      "Invalid number\n"
     ]
    },
    {
     "name": "stdin",
     "output_type": "stream",
     "text": [
      "Number:  2\n"
     ]
    },
    {
     "name": "stdout",
     "output_type": "stream",
     "text": [
      "Name: marko\n",
      "Email: marko@email.com\n",
      "Phone: 231 555 9898\n",
      "\n"
     ]
    },
    {
     "name": "stdin",
     "output_type": "stream",
     "text": [
      "Command:  del\n",
      "Number:  2\n"
     ]
    },
    {
     "name": "stdout",
     "output_type": "stream",
     "text": [
      "marko was deleted.\n",
      "\n"
     ]
    },
    {
     "name": "stdin",
     "output_type": "stream",
     "text": [
      "Command:  exit\n"
     ]
    },
    {
     "name": "stdout",
     "output_type": "stream",
     "text": [
      "Bye!\n"
     ]
    }
   ],
   "source": [
    "### CODE HERE ###\n",
    "def funList(list):#Display all contacts\n",
    "    x = len(list)\n",
    "    for i in range(0,x):\n",
    "        print(i+1,list[i][0])\n",
    "    \n",
    "def funView(list):#View a contact\n",
    "    #validate number is in array\n",
    "    while True:\n",
    "        num = int(input(\"Number: \"))\n",
    "        if num > len(list) or num <= 0:\n",
    "            print(\"Invalid number\")\n",
    "            continue\n",
    "        else:\n",
    "            break\n",
    "    #program after validation\n",
    "    id = num - 1\n",
    "    print(\"Name:\",list[id][0])\n",
    "    print(\"Email:\",list[id][1])\n",
    "    print(\"Phone:\",list[id][2])\n",
    "    \n",
    "def funAdd(list):#Add a contact\n",
    "    sName = input(\"Name: \")#0\n",
    "    sEmail = input(\"Email: \")#1\n",
    "    sPhone = input(\"Phone: \")#2\n",
    "\n",
    "    #add to list\n",
    "    add_person = [sName, sEmail, sPhone]\n",
    "    list.append(add_person)\n",
    "    print(list[len(list)-1][0],\"was added.\")\n",
    "    \n",
    "def funDel(list):# Delete a contact\n",
    "    #validate number is in array\n",
    "    while True:\n",
    "        num = int(input(\"Number: \"))\n",
    "        if num > len(list) or num <= 0:\n",
    "            print(\"Invalid number\")\n",
    "            continue\n",
    "        else:\n",
    "            break\n",
    "    #program after validation\n",
    "    id = num - 1\n",
    "    print(list[id][0],\"was deleted.\")\n",
    "    list.pop(id)\n",
    "    \n",
    "def main():#main\n",
    "    #Starting Data\n",
    "    #contact_list = [[name, email, phone],[name,email,phone]\n",
    "    contact_list = [[\"Eric Idle\", \"eric@ericidle.com\", \"+44 20 7946 0958\"]\n",
    "                   , [\"Mike Murach\", \"mike@murach.com\", \"559-123-4567\"]]\n",
    "    \n",
    "    #display commmand list\n",
    "    print(\"COMMAND MENU\")\n",
    "    print(\"list - Display all contacts\")\n",
    "    print(\"view - View a contact\")\n",
    "    print(\"add - Add a contact\")\n",
    "    print(\"del - Delete a contact\")\n",
    "    print(\"exit - Exit program\")\n",
    "    print()\n",
    "    \n",
    "    while True:\n",
    "        #get command\n",
    "        print()\n",
    "        sCommand = input(\"Command: \")\n",
    "        if sCommand.lower() == \"list\":\n",
    "            funList(contact_list)\n",
    "        elif sCommand.lower() == \"view\":\n",
    "            funView(contact_list)\n",
    "        elif sCommand.lower() == \"add\":\n",
    "            funAdd(contact_list)\n",
    "        elif sCommand.lower() == \"del\":\n",
    "            funDel(contact_list)\n",
    "        elif sCommand.lower() == \"exit\": #Exit program\n",
    "            print(\"Bye!\")\n",
    "            break\n",
    "        else:\n",
    "            print(\"Invalid Command input\")\n",
    "            print(\"Try again\")\n",
    "            continue\n",
    "        \n",
    "if __name__ == \"__main__\":\n",
    "    main()"
   ]
  }
 ],
 "metadata": {
  "kernelspec": {
   "display_name": "Python 3 (ipykernel)",
   "language": "python",
   "name": "python3"
  },
  "language_info": {
   "codemirror_mode": {
    "name": "ipython",
    "version": 3
   },
   "file_extension": ".py",
   "mimetype": "text/x-python",
   "name": "python",
   "nbconvert_exporter": "python",
   "pygments_lexer": "ipython3",
   "version": "3.11.5"
  }
 },
 "nbformat": 4,
 "nbformat_minor": 4
}
