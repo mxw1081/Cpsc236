{
 "cells": [
  {
   "cell_type": "code",
   "execution_count": null,
   "id": "4212b547",
   "metadata": {},
   "outputs": [],
   "source": [
    "def fFeetToMeter():\n",
    "    x = int(input(\"\\nEnter feet:\"))\n",
    "    return print(\"\\n\",round(x*0.3048,2),\"Meter/s\")\n",
    "\n",
    "def fMeterToFeet():\n",
    "    x = int(input(\"\\nEnter meter:\"))\n",
    "    return print(\"\\n\",round(x/0.3048,2),\"Feet\")\n"
   ]
  }
 ],
 "metadata": {
  "kernelspec": {
   "display_name": "Python 3 (ipykernel)",
   "language": "python",
   "name": "python3"
  },
  "language_info": {
   "codemirror_mode": {
    "name": "ipython",
    "version": 3
   },
   "file_extension": ".py",
   "mimetype": "text/x-python",
   "name": "python",
   "nbconvert_exporter": "python",
   "pygments_lexer": "ipython3",
   "version": "3.9.13"
  }
 },
 "nbformat": 4,
 "nbformat_minor": 5
}
