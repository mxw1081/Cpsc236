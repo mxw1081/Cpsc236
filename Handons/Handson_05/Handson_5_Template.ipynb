{
 "cells": [
  {
   "cell_type": "markdown",
   "metadata": {},
   "source": [
    "# File Input\n",
    "\n",
    "To submit this assignment in D2l, post the link to your notebook file on your GitHub account."
   ]
  },
  {
   "cell_type": "markdown",
   "metadata": {},
   "source": [
    "## 7.1 Pig Dice Rules\n",
    "Create a program that reads a list of rules from a file and displays them.\n",
    "\n",
    "### Console:\n",
    "```powershell\n",
    "Pig Dice Rules:\n",
    "*\tSee how many turns it takes you to get to 20.\n",
    "*\tTurn ends when player rolls a 1 or chooses to hold.\n",
    "*\tIf you roll a 1, you lose all points earned during the turn.\n",
    "*\tIf you hold, you save all points earned during the turn.\n",
    "```\n",
    "\n",
    "### Specifications:\n",
    "- Use the attached text file named `pig_dice_rules.txt` in the corresponding Directory.\n",
    "- Your program should read the text file and display it on the console.\n"
   ]
  },
  {
   "cell_type": "code",
   "execution_count": 1,
   "metadata": {},
   "outputs": [
    {
     "name": "stdout",
     "output_type": "stream",
     "text": [
      "Pig Dice Rules:\n",
      "\n",
      "* See how many turns it takes you to get to 20.\n",
      "\n",
      "* Turn ends when player rolls a 1 or chooses to hold.\n",
      "\n",
      "* If you roll a 1, you lose all points earned during the turn.\n",
      "\n",
      "* If you hold, you save all points earned during the turn.\n"
     ]
    }
   ],
   "source": [
    "### CODE HERE ###\n",
    "def readFile():\n",
    "    print()\n",
    "    \n",
    "def main():\n",
    "    listRules = []\n",
    "    with open(\"pig_dice_rules.txt\",\"r\", newline=\"\") as file:#read\n",
    "        listRules = file.readlines()\n",
    "       # print(listRules)\n",
    "        #print(file.readlines())\n",
    "    \n",
    "    for i in range(0,len(listRules)):\n",
    "        print(listRules[i])\n",
    "    \n",
    "if __name__ == \"__main__\":\n",
    "    main()"
   ]
  },
  {
   "cell_type": "markdown",
   "metadata": {},
   "source": [
    "## 7.2 Wizard Inventory\n",
    "Create a program that keeps track of the items that a wizard can carry.\n",
    "\n",
    "### Console:\n",
    "```powershell\n",
    "The Wizard Inventroy Program\n",
    "\n",
    "COMMAND MENU\n",
    "walk - Walk down the path show - Show all items drop - Drop an item\n",
    "exit - Exit program\n",
    "\n",
    "Command: walk\n",
    "While walking down a path, you see a scroll of uncursing. Do you want to grab it? (y/n): y\n",
    "You picked up a scroll of uncursing.\n",
    "\n",
    "Command: walk\n",
    "While walking down a path, you see an unknown potion. Do you want to grab it? (y/n): y\n",
    "You can't carry any more items. Drop something first.\n",
    "\n",
    "Command: show\n",
    "1.\ta wooden staff\n",
    "2.\ta scroll of invisibility\n",
    "3.\ta crossbow\n",
    "4.\ta scroll of uncursing\n",
    "\n",
    "Command: drop Number: 3\n",
    "You dropped a crossbow.\n",
    "\n",
    "Command: exit Bye!\n",
    "```\n",
    "\n",
    "### Specifications:\n",
    "- Use the attached text file named `wizard_all_items.txt` that contains a list of all the items that a wizard can carry. (in the corresponding directory)\n",
    "- When the user selects the walk command, the program should read the items from the file, randomly pick one, and give the user the option to grab it.\n",
    "- Your program should create another file that stores the items that the wizard is carrying (`wizard_inventory.txt`). Make sure to update this file every time the user grabs or drops an item.\n",
    "- The wizard can only carry **four** items at a time.\n",
    "- For the drop command, display an error message if the user enters an invalid number for the item.\n",
    "\n"
   ]
  },
  {
   "cell_type": "code",
   "execution_count": 5,
   "metadata": {},
   "outputs": [
    {
     "name": "stdout",
     "output_type": "stream",
     "text": [
      "COMMAND MENU\n",
      "    walk - Walk down the path\n",
      "    show - Show all items\n",
      "    drop - Drop an item\n",
      "    exit - Exit program\n"
     ]
    },
    {
     "name": "stdin",
     "output_type": "stream",
     "text": [
      "Command:  show\n"
     ]
    },
    {
     "name": "stdout",
     "output_type": "stream",
     "text": [
      "\n"
     ]
    },
    {
     "name": "stdin",
     "output_type": "stream",
     "text": [
      "Command:  walk\n",
      "While walking down a path, you see a wooden staff. Do you want to grab it? (y/n):  y\n",
      "Command:  show\n"
     ]
    },
    {
     "name": "stdout",
     "output_type": "stream",
     "text": [
      "1. a wooden staff\n",
      "\n"
     ]
    },
    {
     "name": "stdin",
     "output_type": "stream",
     "text": [
      "Command:  walk\n",
      "While walking down a path, you see a scroll of uncursing. Do you want to grab it? (y/n):  y\n",
      "Command:  walk\n",
      "While walking down a path, you see a wizard's cloak. Do you want to grab it? (y/n):  y\n",
      "Command:  show\n"
     ]
    },
    {
     "name": "stdout",
     "output_type": "stream",
     "text": [
      "1. a wooden staff\n",
      "2. a scroll of uncursing\n",
      "3. a wizard's cloak\n",
      "\n"
     ]
    },
    {
     "name": "stdin",
     "output_type": "stream",
     "text": [
      "Command:  walk\n",
      "While walking down a path, you see some elven bread. Do you want to grab it? (y/n):  y\n",
      "Command:  walk\n",
      "While walking down a path, you see a wooden staff. Do you want to grab it? (y/n):  y\n"
     ]
    },
    {
     "name": "stdout",
     "output_type": "stream",
     "text": [
      "You can't carry any more items. Drop something first.\n"
     ]
    },
    {
     "name": "stdin",
     "output_type": "stream",
     "text": [
      "Command:  show\n"
     ]
    },
    {
     "name": "stdout",
     "output_type": "stream",
     "text": [
      "\n"
     ]
    },
    {
     "name": "stdin",
     "output_type": "stream",
     "text": [
      "Command:  walk\n",
      "While walking down a path, you see a crossbow. Do you want to grab it? (y/n):  y\n",
      "Command:  show\n"
     ]
    },
    {
     "name": "stdout",
     "output_type": "stream",
     "text": [
      "1. a crossbow\n",
      "\n"
     ]
    },
    {
     "name": "stdin",
     "output_type": "stream",
     "text": [
      "Command:  exit\n"
     ]
    },
    {
     "name": "stdout",
     "output_type": "stream",
     "text": [
      "Bye!\n"
     ]
    }
   ],
   "source": [
    "\n",
    "#importing modules\n",
    "import random\n",
    "import os\n",
    "\n",
    "FILE_WIZARD = \"wizard_inventory.txt\" \n",
    "\n",
    "#functions\n",
    "def write_wizard_inventory(wizard_inventory,item):#grab item\n",
    "    with open(FILE_WIZARD, \"w\") as file:\n",
    "        if len(wizard_inventory) < 4: #validate inventory capasity\n",
    "            wizard_inventory.append(item)#add to list then save to file\n",
    "            for inventory in wizard_inventory:\n",
    "                file.write(inventory + \"\\n\")\n",
    "        else:\n",
    "            print(\"You can't carry any more items. Drop something first.\")\n",
    "            \n",
    "    \n",
    "def readwizard_inventory():\n",
    "    wizard_inventory = []\n",
    "    if not os.path.exists(FILE_WIZARD):\n",
    "        open(FILE_WIZARD, \"a\").close()#create file if not existing\n",
    "    with open(FILE_WIZARD) as file:\n",
    "        for line in file:\n",
    "            line = line.replace(\"\\n\", \"\")\n",
    "            wizard_inventory.append(line)\n",
    "    return wizard_inventory\n",
    "\n",
    "def list_wizard_inventory(wizard_inventory):\n",
    "    for i in range(0, len(wizard_inventory)):\n",
    "        inventory = wizard_inventory[i]\n",
    "        print(str(i+1) + \". \" + inventory)\n",
    "    print()\n",
    "\n",
    "def walk_wizard(list_walk):\n",
    "    x = random.randrange(0, len(list_walk)) #generate random number\n",
    "    grab = input(\"While walking down a path, you see \" + list_walk[x] +\". Do you want to grab it? (y/n): \")\n",
    "    if grab.lower() == \"y\":\n",
    "        write_wizard_inventory(readwizard_inventory(),list_walk[x])\n",
    "        \n",
    "def readwizard_all_items(): #txt file for walking around and picking items up\n",
    "    wizard_all_items = []\n",
    "    with open(\"wizard_all_items.txt\") as file:\n",
    "        for line in file:\n",
    "            line = line.replace(\"\\n\", \"\")\n",
    "            wizard_all_items.append(line)\n",
    "    return wizard_all_items\n",
    "\n",
    "def wizard_drop(wizard_inventory):\n",
    "    while True:\n",
    "        drop = int(input(\"Number: \"))\n",
    "        if drop <= len(wizard_inventory)+1:#not working\n",
    "            with open(FILE_WIZARD, \"w\") as file:\n",
    "                print(\"You dropped\", wizard_inventory[drop-1])\n",
    "                wizard_inventory.pop(drop-1)\n",
    "                for inventory in wizard_inventory:\n",
    "                    file.write(inventory + \"\\n\")\n",
    "            break\n",
    "        else:\n",
    "            print(\"Invalid number. Try again\")\n",
    "            \n",
    "\n",
    "def command_menu():\n",
    "    print(\"\"\"COMMAND MENU\n",
    "    walk - Walk down the path\n",
    "    show - Show all items\n",
    "    drop - Drop an item\n",
    "    exit - Exit program\"\"\")\n",
    "    \n",
    "def main():\n",
    "    command_menu()\n",
    "    while True:\n",
    "        wiz_command = input(\"Command: \")\n",
    "        \n",
    "        if wiz_command.lower() == \"walk\":\n",
    "            walk_wizard(readwizard_all_items())\n",
    "        elif wiz_command.lower() == \"show\":\n",
    "            list_wizard_inventory(readwizard_inventory())\n",
    "        elif wiz_command.lower() == \"drop\":\n",
    "            wizard_drop(readwizard_inventory())\n",
    "        elif wiz_command.lower() == \"exit\":\n",
    "            print(\"Bye!\")\n",
    "            break\n",
    "        else:\n",
    "            print(\"Invalid command\")\n",
    "            command_menu()\n",
    "\n",
    "\n",
    "    \n",
    "if __name__ == \"__main__\":\n",
    "    main()\n",
    "\n",
    "#Note: Picking items up until itembag is full +1 over-writes wizard_inventory.txt\n",
    "# Can not debug this problem"
   ]
  },
  {
   "cell_type": "markdown",
   "metadata": {},
   "source": [
    "## 7.3 Monthly Sales\n",
    "Create a program that reads the sales for 12 months from a file and calculates the total yearly sales as well as the average monthly sales. In addition, this program should let the user edit the sales for any month.\n",
    "\n",
    "### Console:\n",
    "```powershell\n",
    "Monthly Sales program\n",
    "\n",
    "COMMAND MENU\n",
    "monthly - View monthly sales \n",
    "yearly\t- View yearly sumary \n",
    "edit\t- Edit sales for a month \n",
    "exit\t- Exit program\n",
    "\n",
    "Command: monthly Jan - 14317\n",
    "Feb - 3903\n",
    "Mar - 1073\n",
    "Apr - 3463\n",
    "May - 2429\n",
    "Jun - 4324\n",
    "Jul - 9762\n",
    "Aug - 15578\n",
    "Sep - 2437\n",
    "Oct - 6735\n",
    "Nov - 88\n",
    "Dec - 2497\n",
    "\n",
    "Command: yearly\n",
    "Yearly total:\t66606\n",
    "Monthly average:\t5550.5\n",
    "\n",
    "Command: edit\n",
    "Three-letter Month: Nov Sales Amount: 8854\n",
    "Sales amount for Nov was modified.\n",
    "\n",
    "Command: exit Bye!\n",
    "```\n",
    "\n",
    "### Specifications:\n",
    "- Use the attached text file named CSV file named `monthly_sales.csv` that contains the month and sales data shown above.\n",
    "- For the edit command, display an error message if the user doesn’t enter a valid three-letter abbreviation for the month.\n",
    "- When the user edits the sales amount for a month, the data should be saved to the CSV file immediately. That way, no data is lost, even if the program crashes later.\n",
    "- Round the results of the monthly average to a maximum of 2 decimal digits."
   ]
  },
  {
   "cell_type": "code",
   "execution_count": 16,
   "metadata": {},
   "outputs": [
    {
     "name": "stdout",
     "output_type": "stream",
     "text": [
      "COMMAND MENU\n",
      "    monthly - View monthly sales\n",
      "    yearly - View yearly sumary\n",
      "    edit - Edit sales for a month\n",
      "    exit - Exit program\n"
     ]
    },
    {
     "name": "stdin",
     "output_type": "stream",
     "text": [
      "Command:  monthly\n"
     ]
    },
    {
     "name": "stdout",
     "output_type": "stream",
     "text": [
      "Jan - 14317\n",
      "Feb - 3903\n",
      "Mar - 1073\n",
      "Apr - 3463\n",
      "May - 2429\n",
      "Jun - 4324\n",
      "Jul - 9762\n",
      "Aug - 15578\n",
      "Sep - 2437\n",
      "Oct - 6735\n",
      "Nov - 88\n",
      "Dec - 2497\n"
     ]
    },
    {
     "name": "stdin",
     "output_type": "stream",
     "text": [
      "Command:  yearly\n"
     ]
    },
    {
     "name": "stdout",
     "output_type": "stream",
     "text": [
      "Yearly total: 66606\n",
      "Monthly average: 5550.5\n"
     ]
    },
    {
     "name": "stdin",
     "output_type": "stream",
     "text": [
      "Command:  edit\n",
      "Three-letter Month:  Nov\n",
      "Sales Amount:  8854\n",
      "Command:  monthly\n"
     ]
    },
    {
     "name": "stdout",
     "output_type": "stream",
     "text": [
      "Jan - 14317\n",
      "Feb - 3903\n",
      "Mar - 1073\n",
      "Apr - 3463\n",
      "May - 2429\n",
      "Jun - 4324\n",
      "Jul - 9762\n",
      "Aug - 15578\n",
      "Sep - 2437\n",
      "Oct - 6735\n",
      "Nov - 8854\n",
      "Dec - 2497\n"
     ]
    },
    {
     "name": "stdin",
     "output_type": "stream",
     "text": [
      "Command:  yearly\n"
     ]
    },
    {
     "name": "stdout",
     "output_type": "stream",
     "text": [
      "Yearly total: 75372\n",
      "Monthly average: 6281.0\n"
     ]
    },
    {
     "name": "stdin",
     "output_type": "stream",
     "text": [
      "Command:  exit\n"
     ]
    },
    {
     "name": "stdout",
     "output_type": "stream",
     "text": [
      "Bye!\n"
     ]
    }
   ],
   "source": [
    "### CODE HERE ###\n",
    "#import\n",
    "import csv\n",
    "\n",
    "def command_menu():\n",
    "    print(\"\"\"COMMAND MENU\n",
    "    monthly - View monthly sales\n",
    "    yearly - View yearly sumary\n",
    "    edit - Edit sales for a month\n",
    "    exit - Exit program\"\"\")\n",
    "\n",
    "def monthly_Sale(list):\n",
    "    for i in range(0,len(list)):\n",
    "        print(list[i][0] + \" - \" + list[i][1])\n",
    "\n",
    "def yearly_Sale(list):\n",
    "    yearly = 0\n",
    "    count = 0\n",
    "    for i in range(0,len(list)):\n",
    "        yearly += int(list[i][1])\n",
    "        count += 1\n",
    "    average = round(yearly/count, 2)\n",
    "    print(\"Yearly total: \" + str(yearly))\n",
    "    print(\"Monthly average: \" + str(average))\n",
    "\n",
    "def read_csv_File():\n",
    "    list = []\n",
    "    with open(\"monthly_sales.csv\", newline=\"\") as file:\n",
    "        reader = csv.reader(file)\n",
    "        for row in reader:\n",
    "            list.append(row)\n",
    "    return list\n",
    "\n",
    "def edit_sale(list):\n",
    "    month = input(\"Three-letter Month: \")\n",
    "    sales = int(input(\"Sales Amount: \"))\n",
    "    if month == \"Jan\":\n",
    "        date = 0\n",
    "    elif month == \"Feb\":\n",
    "        date = 1\n",
    "    elif month == \"Mar\":\n",
    "        date = 2\n",
    "    elif month == \"Apr\":\n",
    "        date = 3\n",
    "    elif month == \"May\":\n",
    "        date = 4\n",
    "    elif month == \"Jun\":\n",
    "        date = 5\n",
    "    elif month == \"Jul\":\n",
    "        date = 6\n",
    "    elif month == \"Aug\":\n",
    "        date = 7\n",
    "    elif month == \"Sep\":\n",
    "        date = 8\n",
    "    elif month == \"Oct\":\n",
    "        date = 9\n",
    "    elif month == \"Nov\":\n",
    "        date = 10\n",
    "    elif month == \"Dec\":\n",
    "        date = 11\n",
    "\n",
    "    list[date][1] = str(sales)\n",
    "    \n",
    "    with open(\"monthly_sales.csv\", \"w\", newline=\"\") as file:\n",
    "        writer = csv.writer(file)\n",
    "        writer.writerows(list)\n",
    "\n",
    "\n",
    "def main():\n",
    "    command_menu()\n",
    "    while True:\n",
    "        command = input(\"Command: \")\n",
    "        if command.lower() == \"monthly\":\n",
    "            monthly_Sale(read_csv_File())\n",
    "        elif command.lower() == \"yearly\":\n",
    "            yearly_Sale(read_csv_File())\n",
    "        elif command.lower() == \"edit\":\n",
    "            edit_sale(read_csv_File())\n",
    "        elif command.lower() == \"exit\":\n",
    "            print(\"Bye!\")\n",
    "            break\n",
    "        else:\n",
    "            print(\"Invalid input\")\n",
    "\n",
    "if __name__ == \"__main__\":\n",
    "    main()"
   ]
  }
 ],
 "metadata": {
  "kernelspec": {
   "display_name": "Python 3 (ipykernel)",
   "language": "python",
   "name": "python3"
  },
  "language_info": {
   "codemirror_mode": {
    "name": "ipython",
    "version": 3
   },
   "file_extension": ".py",
   "mimetype": "text/x-python",
   "name": "python",
   "nbconvert_exporter": "python",
   "pygments_lexer": "ipython3",
   "version": "3.11.5"
  }
 },
 "nbformat": 4,
 "nbformat_minor": 4
}
