{
 "cells": [
  {
   "cell_type": "markdown",
   "metadata": {},
   "source": [
    "# Functions\n",
    "\n",
    "To submit this assignment in D2l, post the link to your notebook file on your GitHub account."
   ]
  },
  {
   "cell_type": "markdown",
   "metadata": {},
   "source": [
    "## 4.1 Even or Odd Checker\n",
    "Create a program that checks whether a number is even or odd.\n",
    "\n",
    "### Console:\n",
    "```powershell\n",
    "Even or Odd Checker\n",
    "\n",
    "Enter an integer: 33\n",
    "This is an odd number.\n",
    "```\n",
    "\n",
    "### Specifications:\n",
    "- Store the code that gets user input and displays output in the main function.\n",
    "- Store the code that checks whether the number is even or odd in a separate function.\n",
    "- Assume that the user will enter a valid integer.\n"
   ]
  },
  {
   "cell_type": "code",
   "execution_count": 6,
   "metadata": {},
   "outputs": [
    {
     "name": "stdout",
     "output_type": "stream",
     "text": [
      "Enter an integer: 5\n",
      "This is an Odd number\n"
     ]
    }
   ],
   "source": [
    "#lEvenOdd = (lambda x: x % 2 == 0: \"Even\" : \"Odd\")\n",
    "    \n",
    "def lEvenOdd(x):\n",
    "    if x % 2 == 0:\n",
    "        return \"Even\"\n",
    "    else:\n",
    "        return \"Odd\"\n",
    "    \n",
    "def main():\n",
    "    iNum = int(input(\"Enter an integer: \"))\n",
    "    print(\"This is an\",lEvenOdd(iNum),\"number\")\n",
    "    \n",
    "if __name__ == \"__main__\":\n",
    "    main()\n",
    "        "
   ]
  },
  {
   "cell_type": "markdown",
   "metadata": {},
   "source": [
    "## 4.2 - Feet and Meters Converter\n",
    "Create a program that converts feet to meters and vice versa.\n",
    "\n",
    "### Console\n",
    "```powershell\n",
    "Feet and Meters Converter\n",
    "\n",
    "Conversions Menu:\n",
    "a.\tFeet to Meters\n",
    "b.\tMeters to Feet\n",
    "Select a conversion (a/b): a\n",
    "\n",
    "Enter feet: 100\n",
    "30.48 meters\n",
    "\n",
    "Would you like to perform another conversion? (y/n): y \n",
    "\n",
    "Conversions Menu:\n",
    "a.\tFeet to Meters\n",
    "b.\tMeters to Feet\n",
    "Select a conversion (a/b): b\n",
    "\n",
    "Enter meters: 100\n",
    "328.08 feet\n",
    "\n",
    "Would you like to perform another conversion? (y/n): n\n",
    "\n",
    "Thanks, bye!\n",
    "```\n",
    "\n",
    "### Specifications:\n",
    "- The formula for converting feet to meters is:\n",
    "`feet = meters / 0.3048`\n",
    "\n",
    "- The formula for converting meters to feet is:\n",
    "`meters = feet * 0.3048`\n",
    "\n",
    "- Store the code that performs the conversions in functions within a module. For example, store the code that converts feet to meters in a function in a module.\n",
    "- Store the code that displays the title in its own function, and store the code that displays the menu in its own function, but store the rest of the code that gets input and displays output in a main function.\n",
    "- Assume the user will enter valid data.\n",
    "- The program should round results to a maximum of two decimal places.\n",
    "\n",
    "\n"
   ]
  },
  {
   "cell_type": "code",
   "execution_count": 17,
   "metadata": {},
   "outputs": [
    {
     "name": "stdout",
     "output_type": "stream",
     "text": [
      "Feet and Meters Converter\n",
      "\n",
      "a.\tFeet to Meters\n",
      "b.\tMeters to Feet\n"
     ]
    },
    {
     "name": "stdin",
     "output_type": "stream",
     "text": [
      "Slect a coversion (a/b): a\n",
      "Enter feet: 100\n"
     ]
    },
    {
     "name": "stdout",
     "output_type": "stream",
     "text": [
      "30.48 Meter/s\n"
     ]
    },
    {
     "name": "stdin",
     "output_type": "stream",
     "text": [
      "\n",
      "Would you like to perform another conversion? (y/n): Y\n"
     ]
    },
    {
     "name": "stdout",
     "output_type": "stream",
     "text": [
      "Feet and Meters Converter\n",
      "\n",
      "a.\tFeet to Meters\n",
      "b.\tMeters to Feet\n"
     ]
    },
    {
     "name": "stdin",
     "output_type": "stream",
     "text": [
      "Slect a coversion (a/b): b\n",
      "\n",
      "Enter meter: 100\n"
     ]
    },
    {
     "name": "stdout",
     "output_type": "stream",
     "text": [
      "328.08 Feet\n"
     ]
    },
    {
     "name": "stdin",
     "output_type": "stream",
     "text": [
      "\n",
      "Would you like to perform another conversion? (y/n): N\n"
     ]
    }
   ],
   "source": [
    "### CODE HERE ###\n",
    "import conversions as con\n",
    "\n",
    "def main():\n",
    "    sContinue = \"y\"\n",
    "    while sContinue == \"y\":\n",
    "        \n",
    "        print(\"Feet and Meters Converter\\n\\na.\\tFeet to Meters\\nb.\\tMeters to Feet\")\n",
    "        sSelect = input(\"Slect a coversion (a/b):\")\n",
    "        sSelected = sSelect.lower()\n",
    "        if sSelected == \"a\":\n",
    "            print(con.fFeetToMeter())\n",
    "        elif sSelected == \"b\":\n",
    "            print(con.fMeterToFeet())\n",
    "            \n",
    "        sInput = input(\"\\nWould you like to perform another conversion? (y/n):\")\n",
    "        sContinue = sInput.lower()\n",
    "    print(\"Thanks, bye!\")\n",
    "        \n",
    "\n",
    "\n",
    "if __name__ == \"__main__\":\n",
    "    main()\n",
    "\n",
    "    "
   ]
  },
  {
   "cell_type": "markdown",
   "metadata": {},
   "source": [
    "## 4.3 - Sales Tax Calculator\n",
    "Create a program that uses a separate module to calculate sales tax and total after tax.\n",
    "\n",
    "### Console\n",
    "```powershell\n",
    "Sales Tax Calculator\n",
    "\n",
    "ENTER ITEMS (ENTER 0 TO END)\n",
    "Cost of item: 35.99 \n",
    "Cost of item: 27.50 \n",
    "Cost of item: 19.59 \n",
    "Cost of item: 0 \n",
    "Total:  83.08\n",
    "Sales tax:\t4.98\n",
    "Total after tax: 88.06 \n",
    "\n",
    "Again? (y/n): y\n",
    "\n",
    "ENTER ITEMS (ENTER 0 TO END)\n",
    "Cost of item: 152.50 \n",
    "Cost of item: 59.80 \n",
    "Cost of item: 0\n",
    "Total:  212.3\n",
    "Sales tax:\t12.74\n",
    "Total after tax: 225.04 \n",
    "\n",
    "Again? (y/n): n\n",
    "\n",
    "Thanks, bye!\n",
    "\n",
    "```\n",
    "\n",
    "### Specifications\n",
    "- The sales tax rate should be 6% of the total.\n",
    "- Store the sales tax rate in a module. This module should also contain functions that calculate the sales tax and the total after tax. These functions should round the results to a maximum of two decimal places. Upload the seperate sales tax module to your GitHub repo when submitting.\n",
    "- Store the code that gets input and displays output in this notebook. Divide this code into functions wherever you think it would make that code easier to read and maintain.\n",
    "- Assume the user will enter valid data.\n",
    "\n"
   ]
  },
  {
   "cell_type": "code",
   "execution_count": 21,
   "metadata": {},
   "outputs": [
    {
     "name": "stdout",
     "output_type": "stream",
     "text": [
      "ENTER ITEMS (ENTER 0 TO END)\n"
     ]
    },
    {
     "name": "stdin",
     "output_type": "stream",
     "text": [
      "Cost of item:  152.5\n",
      "Cost of item:  59.8\n",
      "Cost of item:  0\n"
     ]
    },
    {
     "name": "stdout",
     "output_type": "stream",
     "text": [
      "Total: 212.3\n",
      "Sales tax:\t 12.74\n",
      "Total after tax:\t 225.04\n"
     ]
    },
    {
     "name": "stdin",
     "output_type": "stream",
     "text": [
      "\n",
      "Again? (y/n): n\n"
     ]
    },
    {
     "name": "stdout",
     "output_type": "stream",
     "text": [
      "Thanks, bye!\n"
     ]
    }
   ],
   "source": [
    "### CODE HERE ###\n",
    "\n",
    "import tax\n",
    "\n",
    "def main():\n",
    "    sContinue = \"y\"\n",
    "    while sContinue == \"y\":\n",
    "        fSubtotal = 0\n",
    "        print(\"ENTER ITEMS (ENTER 0 TO END)\")\n",
    "        while True:\n",
    "            fCost = float(input(\"Cost of item: \"))\n",
    "            if fCost == 0:\n",
    "                break\n",
    "            else:\n",
    "                fSubtotal += fCost\n",
    "                continue\n",
    "        print(\"Total:\",fSubtotal)\n",
    "        print(\"Sales tax:\\t\",tax.fSalesTax(fSubtotal))\n",
    "        print(\"Total after tax:\\t\",tax.fTotal(fSubtotal,tax.fSalesTax(fSubtotal)))\n",
    "        \n",
    "        sInput = input(\"\\nAgain? (y/n):\")\n",
    "        sContinue = sInput.lower() \n",
    "    print(\"Thanks, bye!\")\n",
    "\n",
    "if __name__ == \"__main__\":\n",
    "    main()\n"
   ]
  },
  {
   "cell_type": "markdown",
   "metadata": {},
   "source": [
    "## 4.4 - Prime Number Checker\n",
    "Create a program that checks whether a number is a prime number and displays the total number of factors if it is not a prime number.\n",
    "\n",
    "### Console\n",
    "```powershell\n",
    "Prime Number Checker\n",
    "\n",
    "Please enter an integer between 1 and 5000: 1 \n",
    "Invalid integer. Please try again.\n",
    "Please enter an integer between 1 and 5000: 2\n",
    "2 is a prime number. \n",
    "\n",
    "Try again? (y/n): y\n",
    "\n",
    "Please enter an integer between 1 and 5000: 3\n",
    "3 is a prime number.\n",
    "\n",
    "Try again? (y/n): y\n",
    "\n",
    "Please enter an integer between 1 and 5000: 4\n",
    "4 is NOT a prime number.\n",
    "It has 3 factors.\n",
    "\n",
    "Try again? (y/n): y\n",
    "\n",
    "Please enter an integer between 1 and 5000: 6\n",
    "6 is NOT a prime number.\n",
    "It has 4 factors.\n",
    "\n",
    "Try again? (y/n): n\n",
    "\n",
    "Bye!\n",
    "```\n",
    "\n",
    "### Specifications\n",
    "- A prime number is only divisible by two factors (1 and itself). For example, 7 is a prime number because it is only divisible by 1 and 7.\n",
    "- If the number is not a prime number, the program should display its number of factors. For example, 6 has four factors (1, 2, 3, and 6).\n",
    "- Store the code that gets a valid integer for this program in its own function.\n",
    "- Store the code that calculates the number of factors for a number in its own function.\n",
    "- Store the rest of the code that gets input and displays output in the main function.\n",
    "\n"
   ]
  },
  {
   "cell_type": "code",
   "execution_count": null,
   "metadata": {},
   "outputs": [],
   "source": [
    "### CODE HERE ###\n",
    "def fValidNumber(x):\n",
    "    while True:\n",
    "        if x > 1 and x < 5000:\n",
    "            break\n",
    "        else:\n",
    "            print(\"\\nInvalid integer. Please try again.\")\n",
    "            x = int(input(\"\\nPlease enter an integer between 1 and 5000:\"))\n",
    "            continue\n",
    "    return x\n",
    "    \n",
    "    \n",
    "def fFactors(x):\n",
    "    iFactor = 0\n",
    "    for i in range(x,1,-1):\n",
    "        if x % i == 0:\n",
    "            iFactor += 1\n",
    "    return iFactor\n",
    "\n",
    "def main():\n",
    "    while True:\n",
    "        \n",
    "        #Input\n",
    "        iNum = int(input(\"\\nPlease enter an integer between 1 and 5000:\"))\n",
    "        iFinalNum = fValidNumber(iNum)\n",
    "        \n",
    "        #Display\n",
    "        if fFactors(iFinalNum) == 1:\n",
    "            print(iFinalNum,\" is a prime number.\")\n",
    "            sContinue = input(\"Try again? (y/n): \")\n",
    "        else:\n",
    "            print(iFinalNum,\" is NOT a prime number.\\nIt has\",fFactors(iFinalNum),\"factors.\")\n",
    "            sContinue = input(\"Try again? (y/n): \")\n",
    "            \n",
    "        #Again/Continue?\n",
    "        if sContinue.lower() == \"y\":\n",
    "            continue\n",
    "        elif sContinue.lower() == \"n\":\n",
    "            print(\"\\nBye!\")\n",
    "            break\n",
    "\n",
    "\n",
    "if __name__ == \"__main__\":\n",
    "    main()"
   ]
  }
 ],
 "metadata": {
  "kernelspec": {
   "display_name": "Python 3 (ipykernel)",
   "language": "python",
   "name": "python3"
  },
  "language_info": {
   "codemirror_mode": {
    "name": "ipython",
    "version": 3
   },
   "file_extension": ".py",
   "mimetype": "text/x-python",
   "name": "python",
   "nbconvert_exporter": "python",
   "pygments_lexer": "ipython3",
   "version": "3.11.5"
  }
 },
 "nbformat": 4,
 "nbformat_minor": 4
}
